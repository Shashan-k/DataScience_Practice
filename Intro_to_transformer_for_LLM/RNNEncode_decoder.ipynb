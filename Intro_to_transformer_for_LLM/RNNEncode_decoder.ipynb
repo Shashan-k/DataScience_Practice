{
 "cells": [
  {
   "cell_type": "markdown",
   "metadata": {},
   "source": [
    "## Basic vocabulary with mapping from indexes to words"
   ]
  },
  {
   "cell_type": "code",
   "execution_count": 2,
   "metadata": {},
   "outputs": [
    {
     "name": "stdout",
     "output_type": "stream",
     "text": [
      "{0: 'SOS', 1: 'EOS', 2: 'good', 3: '?', 4: 'are', 5: 'am', 6: 'how', 7: 'i', 8: 'you', 9: 'doing', 10: 'and'}\n"
     ]
    }
   ],
   "source": [
    "SOS_token = 0 # Start of sentence\n",
    "EOS_token = 1   # End of sentence\n",
    "\n",
    "index2words = {\n",
    "    SOS_token : \"SOS\",\n",
    "    EOS_token : \"EOS\"\n",
    "}\n",
    "\n",
    "words = \"How are you doing ? I am doing good and you ?\"\n",
    "words_list = set(words.lower().split(\" \"))\n",
    "for word in words_list:\n",
    "    index2words[len(index2words)] = word\n",
    "    \n",
    "print(index2words)"
   ]
  },
  {
   "cell_type": "code",
   "execution_count": 3,
   "metadata": {},
   "outputs": [
    {
     "data": {
      "text/plain": [
       "{'SOS': 0,\n",
       " 'EOS': 1,\n",
       " 'good': 2,\n",
       " '?': 3,\n",
       " 'are': 4,\n",
       " 'am': 5,\n",
       " 'how': 6,\n",
       " 'i': 7,\n",
       " 'you': 8,\n",
       " 'doing': 9,\n",
       " 'and': 10}"
      ]
     },
     "execution_count": 3,
     "metadata": {},
     "output_type": "execute_result"
    }
   ],
   "source": [
    "# Getting the reverse mapping\n",
    "words2index = {v: k for k, v in index2words.items()}\n",
    "words2index"
   ]
  },
  {
   "cell_type": "code",
   "execution_count": 5,
   "metadata": {},
   "outputs": [
    {
     "name": "stdout",
     "output_type": "stream",
     "text": [
      "[6, 4, 8, 9, 3]\n",
      "tensor([[6],\n",
      "        [4],\n",
      "        [8],\n",
      "        [9],\n",
      "        [3]])\n"
     ]
    }
   ],
   "source": [
    "# Functions to convert sentence to tensor\n",
    "import torch\n",
    "\n",
    "def convert2tensors(sentecnce):\n",
    "    words_list = sentecnce.lower().split(\" \")  # Convert the whole sentence into list of words\n",
    "    indexes = [words2index[word] for word in words_list]  # Convert the words into indexes\n",
    "    #print(indexes)\n",
    "    return torch.tensor(indexes, dtype=torch.long).view(-1, 1)  # Convert the indexes into tensor\n",
    "\n",
    "sentence = \"How are you doing ?\"\n",
    "print(convert2tensors(sentence))"
   ]
  },
  {
   "cell_type": "code",
   "execution_count": null,
   "metadata": {},
   "outputs": [],
   "source": []
  }
 ],
 "metadata": {
  "kernelspec": {
   "display_name": "Research_env",
   "language": "python",
   "name": "python3"
  },
  "language_info": {
   "codemirror_mode": {
    "name": "ipython",
    "version": 3
   },
   "file_extension": ".py",
   "mimetype": "text/x-python",
   "name": "python",
   "nbconvert_exporter": "python",
   "pygments_lexer": "ipython3",
   "version": "3.9.16"
  }
 },
 "nbformat": 4,
 "nbformat_minor": 2
}
