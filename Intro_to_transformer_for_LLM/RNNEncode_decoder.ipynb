{
 "cells": [
  {
   "cell_type": "markdown",
   "metadata": {},
   "source": [
    "## Basic vocabulary with mapping from indexes to words"
   ]
  },
  {
   "cell_type": "code",
   "execution_count": 4,
   "metadata": {},
   "outputs": [
    {
     "name": "stdout",
     "output_type": "stream",
     "text": [
      "{0: 'SOS', 1: 'EOS', 2: '?', 3: 'how', 4: 'are', 5: 'and', 6: 'doing', 7: 'you', 8: 'good', 9: 'i', 10: 'am'}\n"
     ]
    }
   ],
   "source": [
    "SOS_token = 0 # Start of sentence\n",
    "EOS_token = 1   # End of sentence\n",
    "\n",
    "index2words = {\n",
    "    SOS_token : \"SOS\",\n",
    "    EOS_token : \"EOS\"\n",
    "}\n",
    "\n",
    "words = \"How are you doing ? I am doing good and you ?\"\n",
    "words_list = set(words.lower().split(\" \"))\n",
    "for word in words_list:\n",
    "    index2words[len(index2words)] = word\n",
    "    \n",
    "print(index2words)"
   ]
  },
  {
   "cell_type": "code",
   "execution_count": 5,
   "metadata": {},
   "outputs": [
    {
     "data": {
      "text/plain": [
       "{'SOS': 0,\n",
       " 'EOS': 1,\n",
       " '?': 2,\n",
       " 'how': 3,\n",
       " 'are': 4,\n",
       " 'and': 5,\n",
       " 'doing': 6,\n",
       " 'you': 7,\n",
       " 'good': 8,\n",
       " 'i': 9,\n",
       " 'am': 10}"
      ]
     },
     "execution_count": 5,
     "metadata": {},
     "output_type": "execute_result"
    }
   ],
   "source": [
    "# Getting the reverse mapping\n",
    "words2index = {v: k for k, v in index2words.items()}\n",
    "words2index"
   ]
  },
  {
   "cell_type": "code",
   "execution_count": 6,
   "metadata": {},
   "outputs": [
    {
     "name": "stdout",
     "output_type": "stream",
     "text": [
      "tensor([[3],\n",
      "        [4],\n",
      "        [7],\n",
      "        [6],\n",
      "        [2]])\n"
     ]
    }
   ],
   "source": [
    "# Functions to convert sentence to tensor\n",
    "import torch\n",
    "\n",
    "def convert2tensors(sentecnce):\n",
    "    words_list = sentecnce.lower().split(\" \")  # Convert the whole sentence into list of words\n",
    "    indexes = [words2index[word] for word in words_list]  # Convert the words into indexes\n",
    "    #print(indexes)\n",
    "    return torch.tensor(indexes, dtype=torch.long).view(-1, 1)  # Convert the indexes into tensor\n",
    "\n",
    "sentence = \"How are you doing ?\"\n",
    "print(convert2tensors(sentence))"
   ]
  },
  {
   "cell_type": "markdown",
   "metadata": {},
   "source": [
    "### The Encoder"
   ]
  },
  {
   "cell_type": "code",
   "execution_count": 7,
   "metadata": {},
   "outputs": [],
   "source": [
    "import torch.nn as nn\n",
    "\n",
    "class EncoderRNN(nn.Module):\n",
    "    def __init__(self, input_size, hidden_size):\n",
    "        super().__init__()\n",
    "        self.hidden_size = hidden_size\n",
    "        self.embedding = nn.Embedding(input_size, hidden_size)\n",
    "        self.gru = nn.GRU(hidden_size, hidden_size, batch_first=True)\n",
    "        \n",
    "    def forward(self,input_tensor):\n",
    "        embedded = self.embedding(input_tensor)\n",
    "        output,hidden = self.gru(embedded) # only 1 layer of GRU as of now\n",
    "        return output, hidden    "
   ]
  },
  {
   "cell_type": "code",
   "execution_count": 11,
   "metadata": {},
   "outputs": [],
   "source": [
    "encoder = EncoderRNN(input_size=len(index2words),hidden_size=3)\n",
    "\n",
    "sentence = \"How are you doing ?\"\n",
    "input_tensor = convert2tensors(sentence)\n",
    "output,hidden = encoder(input_tensor)\n"
   ]
  },
  {
   "cell_type": "code",
   "execution_count": 12,
   "metadata": {},
   "outputs": [
    {
     "data": {
      "text/plain": [
       "torch.Size([5, 1, 3])"
      ]
     },
     "execution_count": 12,
     "metadata": {},
     "output_type": "execute_result"
    }
   ],
   "source": [
    "output.size()"
   ]
  },
  {
   "cell_type": "code",
   "execution_count": 13,
   "metadata": {},
   "outputs": [
    {
     "data": {
      "text/plain": [
       "torch.Size([1, 1, 3])"
      ]
     },
     "execution_count": 13,
     "metadata": {},
     "output_type": "execute_result"
    }
   ],
   "source": [
    "hidden.size()"
   ]
  },
  {
   "cell_type": "code",
   "execution_count": 14,
   "metadata": {},
   "outputs": [
    {
     "data": {
      "text/plain": [
       "tensor([[-0.3397,  0.3092,  0.2277],\n",
       "        [ 0.2033,  0.5876,  0.2414],\n",
       "        [-0.1237,  0.0848,  0.4365],\n",
       "        [ 0.1201,  0.1303,  0.3473],\n",
       "        [ 0.0133, -0.0310,  0.4918]], grad_fn=<SelectBackward0>)"
      ]
     },
     "execution_count": 14,
     "metadata": {},
     "output_type": "execute_result"
    }
   ],
   "source": [
    "output[:,-1]"
   ]
  },
  {
   "cell_type": "markdown",
   "metadata": {},
   "source": [
    "### The Decoder"
   ]
  },
  {
   "cell_type": "code",
   "execution_count": null,
   "metadata": {},
   "outputs": [],
   "source": [
    "import torch.nn.functional as F\n",
    "\n",
    "MAX_LENGTH = 10\n",
    "\n",
    "class DecoderRNN(nn.Module):\n",
    "    def __init__(self, hidden_size, output_size):\n",
    "        super().__init__()\n",
    "        self.hidden_size = hidden_size\n",
    "        self.embedding = nn.Embedding(output_size, hidden_size)\n",
    "        self.gru = nn.GRU(hidden_size, hidden_size, batch_first=True)\n",
    "        self.out = nn.Linear(hidden_size, output_size)\n",
    "        \n",
    "    def forward(self, input_tensor, hidden):\n",
    "        output = self.embedding(input_tensor)\n",
    "        output = F.relu(output)\n",
    "        output,hidden = self.gru(output,hidden)\n",
    "        \n",
    "        \n",
    "        \n",
    "        \n",
    "        "
   ]
  }
 ],
 "metadata": {
  "kernelspec": {
   "display_name": "Research_env",
   "language": "python",
   "name": "python3"
  },
  "language_info": {
   "codemirror_mode": {
    "name": "ipython",
    "version": 3
   },
   "file_extension": ".py",
   "mimetype": "text/x-python",
   "name": "python",
   "nbconvert_exporter": "python",
   "pygments_lexer": "ipython3",
   "version": "3.9.16"
  }
 },
 "nbformat": 4,
 "nbformat_minor": 2
}
